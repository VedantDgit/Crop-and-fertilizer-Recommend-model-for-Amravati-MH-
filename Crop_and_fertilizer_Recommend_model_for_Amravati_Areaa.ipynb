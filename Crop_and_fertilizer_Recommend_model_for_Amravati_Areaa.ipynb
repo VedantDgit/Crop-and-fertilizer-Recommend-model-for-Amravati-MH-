{
  "nbformat": 4,
  "nbformat_minor": 0,
  "metadata": {
    "colab": {
      "provenance": [],
      "authorship_tag": "ABX9TyMPQsCNKPNzThU2tshtJaK5",
      "include_colab_link": true
    },
    "kernelspec": {
      "name": "python3",
      "display_name": "Python 3"
    },
    "language_info": {
      "name": "python"
    }
  },
  "cells": [
    {
      "cell_type": "markdown",
      "metadata": {
        "id": "view-in-github",
        "colab_type": "text"
      },
      "source": [
        "<a href=\"https://colab.research.google.com/github/VedantDgit/Crop-and-fertilizer-Recommend-model-for-Amravati-MH-/blob/main/Crop_and_fertilizer_Recommend_model_for_Amravati_Areaa.ipynb\" target=\"_parent\"><img src=\"https://colab.research.google.com/assets/colab-badge.svg\" alt=\"Open In Colab\"/></a>"
      ]
    },
    {
      "cell_type": "code",
      "execution_count": null,
      "metadata": {
        "id": "rigKuVmeCAUl"
      },
      "outputs": [],
      "source": [
        "import pandas as pd\n",
        "import matplotlib.pyplot as plt"
      ]
    },
    {
      "cell_type": "code",
      "source": [
        "dataset = pd.read_csv(\"/content/FinalAmravati Crop and fertilizer dataset.csv\")"
      ],
      "metadata": {
        "id": "TIpFYwh4CyVn"
      },
      "execution_count": null,
      "outputs": []
    },
    {
      "cell_type": "code",
      "source": [
        "dataset"
      ],
      "metadata": {
        "id": "QN23abs1E9BL"
      },
      "execution_count": null,
      "outputs": []
    },
    {
      "cell_type": "code",
      "source": [
        "dataset.isnull().sum()"
      ],
      "metadata": {
        "id": "shDuLuVHG0WL"
      },
      "execution_count": null,
      "outputs": []
    },
    {
      "cell_type": "code",
      "source": [
        "dataset.shape"
      ],
      "metadata": {
        "id": "Mvq5UHQ6HBq7"
      },
      "execution_count": null,
      "outputs": []
    },
    {
      "cell_type": "code",
      "source": [
        "dataset.info()"
      ],
      "metadata": {
        "id": "EQXvbqyvHHAG"
      },
      "execution_count": null,
      "outputs": []
    },
    {
      "cell_type": "code",
      "source": [
        "dataset.duplicated().sum()"
      ],
      "metadata": {
        "id": "1pRXI-5PHMz0"
      },
      "execution_count": null,
      "outputs": []
    },
    {
      "cell_type": "code",
      "source": [
        "dataset.describe()"
      ],
      "metadata": {
        "id": "si5XT7AOHeFM"
      },
      "execution_count": null,
      "outputs": []
    },
    {
      "cell_type": "code",
      "source": [
        "numeric_dataset = dataset.select_dtypes(include=['number'])\n",
        "corr = numeric_dataset.corr()\n",
        "display(corr)"
      ],
      "metadata": {
        "id": "3H1OTYe8HyEz"
      },
      "execution_count": null,
      "outputs": []
    },
    {
      "cell_type": "code",
      "source": [
        "import seaborn as sns\n",
        "sns.heatmap(corr, annot=True, cmap='coolwarm')"
      ],
      "metadata": {
        "id": "8dksyhKyIYws"
      },
      "execution_count": null,
      "outputs": []
    },
    {
      "cell_type": "markdown",
      "source": [
        "Importing libraries that required for main implementation"
      ],
      "metadata": {
        "id": "RBzLi-roJeP-"
      }
    },
    {
      "cell_type": "code",
      "source": [
        "import ipywidgets as widgets\n",
        "from sklearn.model_selection import train_test_split\n",
        "from sklearn.preprocessing import OneHotEncoder\n",
        "from sklearn.ensemble import RandomForestClassifier"
      ],
      "metadata": {
        "id": "bzZfXrDUJk39"
      },
      "execution_count": null,
      "outputs": []
    },
    {
      "cell_type": "code",
      "source": [
        "taluka_widget = widgets.Combobox(\n",
        "    placeholder='Choose Taluka',\n",
        "    options=tuple(dataset['Taluka_Name'].unique()),\n",
        "    description='Select Taluka:',\n",
        "    ensure_option=True,\n",
        "    disabled=False\n",
        ")\n",
        "\n",
        "soil_color_widget = widgets.Combobox(\n",
        "    placeholder='Select Soil Color of region',\n",
        "    options=tuple(dataset['Soil_color'].unique()),\n",
        "    description='Soil Color:',\n",
        "    ensure_option=True\n",
        ")\n",
        "\n",
        "nitrogen_widget = widgets.Combobox(\n",
        "    description= \"Nitrogen:\",\n",
        "    placeholder='Select Nitrogen',\n",
        "    ensure_option=True,\n",
        ")\n",
        "\n",
        "phosphorus_widget = widgets.Combobox(\n",
        "    description= \"Phosphorus:\",\n",
        "    placeholder='Select Phosphorus',\n",
        "    ensure_option=True,\n",
        ")\n",
        "\n",
        "potassium_widget = widgets.Combobox(\n",
        "    description= \"Potassium:\",\n",
        "    placeholder='Select Potassium',\n",
        "    ensure_option=True,\n",
        ")\n",
        "\n",
        "ph_widget = widgets.Combobox(\n",
        "    description= \"pH:\",\n",
        "    placeholder='Select pH',\n",
        "    ensure_option=True,\n",
        ")\n",
        "\n",
        "rainfall_widget = widgets.Combobox(\n",
        "    description= \"Rainfall:\",\n",
        "    placeholder='Select Rainfall',\n",
        "    ensure_option=True,\n",
        ")\n",
        "\n",
        "temperature_widget = widgets.Combobox(\n",
        "    description= \"Temperature:\",\n",
        "    placeholder='Select Temperature',\n",
        "    ensure_option=True,\n",
        ")\n",
        "\n",
        "recommend_widget = widgets.Output()\n",
        "\n",
        "# Define the observer function to update soil color options\n",
        "def update_soil_color_options(change):\n",
        "    taluka = change.new\n",
        "    if taluka:\n",
        "        soil_colors = dataset[dataset['Taluka_Name'] == taluka]['Soil_color'].unique()\n",
        "        soil_color_widget.options = tuple(soil_colors)\n",
        "    else:\n",
        "        soil_color_widget.options = ()\n",
        "\n",
        "# Define the observer function to update nitrogen options\n",
        "def update_nitrogen_options(change):\n",
        "    taluka = taluka_widget.value\n",
        "    soil_color = soil_color_widget.value\n",
        "    if taluka and soil_color:\n",
        "        nitrogen_values = dataset[(dataset['Taluka_Name'] == taluka) & (dataset['Soil_color'] == soil_color)]['Nitrogen'].unique()\n",
        "        nitrogen_widget.options = tuple(str(value) for value in nitrogen_values)  # Convert to Unicode strings\n",
        "    else:\n",
        "        nitrogen_widget.options = ()\n",
        "\n",
        "# Define the observer function to update phosphorus options\n",
        "def update_phosphorus_options(change):\n",
        "    taluka = taluka_widget.value\n",
        "    soil_color = soil_color_widget.value\n",
        "    if taluka and soil_color:\n",
        "        phosphorus_values = dataset[(dataset['Taluka_Name'] == taluka) & (dataset['Soil_color'] == soil_color)]['Phosphorus'].unique()\n",
        "        phosphorus_widget.options = tuple(str(value) for value in phosphorus_values)  # Convert to Unicode strings\n",
        "    else:\n",
        "        phosphorus_widget.options = ()\n",
        "\n",
        "def update_potassium_options(change):\n",
        "    taluka = taluka_widget.value\n",
        "    soil_color = soil_color_widget.value\n",
        "    if taluka and soil_color:\n",
        "        potassium_values = dataset[(dataset['Taluka_Name'] == taluka) & (dataset['Soil_color'] == soil_color)]['Potassium'].unique()\n",
        "        potassium_widget.options = tuple(str(value) for value in potassium_values)  # Convert to Unicode strings\n",
        "    else:\n",
        "        potassium_widget.options = ()\n",
        "\n",
        "def update_ph_options(change):\n",
        "    taluka = taluka_widget.value\n",
        "    soil_color = soil_color_widget.value\n",
        "    if taluka and soil_color:\n",
        "        ph_values = dataset[(dataset['Taluka_Name'] == taluka) & (dataset['Soil_color'] == soil_color)]['pH'].unique()\n",
        "        ph_widget.options = tuple(str(value) for value in ph_values) # Convert to Unicode strings\n",
        "    else:\n",
        "        ph_widget.options = ()\n",
        "\n",
        "def update_rainfall_options(change):\n",
        "    taluka = taluka_widget.value\n",
        "    soil_color = soil_color_widget.value\n",
        "    if taluka and soil_color:\n",
        "        rainfall_values = dataset[(dataset['Taluka_Name'] == taluka) & (dataset['Soil_color'] == soil_color)]['Rainfall'].unique()\n",
        "        rainfall_widget.options = tuple(str(value) for value in rainfall_values) # Convert to Unicode strings\n",
        "    else:\n",
        "        rainfall_widget.options = ()\n",
        "\n",
        "def update_temperature_options(change):\n",
        "    taluka = taluka_widget.value\n",
        "    soil_color = soil_color_widget.value\n",
        "    if taluka and soil_color:\n",
        "        temperature_values = dataset[(dataset['Taluka_Name'] == taluka) & (dataset['Soil_color'] == soil_color)]['Temperature'].unique()\n",
        "        temperature_widget.options = tuple(str(value) for value in temperature_values) # Convert to Unicode strings\n",
        "    else:\n",
        "        temperature_widget.options = ()\n",
        "\n",
        "# Train the model\n",
        "def train_model(change):\n",
        "    # Get the selected values from the combo boxes\n",
        "    taluka = taluka_widget.value\n",
        "    soil_color = soil_color_widget.value\n",
        "    nitrogen = float(nitrogen_widget.value)\n",
        "    phosphorus = float(phosphorus_widget.value)\n",
        "    potassium = float(potassium_widget.value)\n",
        "    pH = float(ph_widget.value)\n",
        "    rainfall = float(rainfall_widget.value)\n",
        "    temperature = float(temperature_widget.value)\n",
        "\n",
        "    input_data = pd.DataFrame(\n",
        "        [[nitrogen, phosphorus, potassium, pH, rainfall, temperature, taluka, soil_color]],\n",
        "        columns=['Nitrogen', 'Phosphorus', 'Potassium', 'pH', 'Rainfall', 'Temperature', 'Taluka_Name', 'Soil_color']\n",
        "    )\n",
        "\n",
        "    # Perform one-hot encoding for District_Name and Soil_color columns\n",
        "    encoder = OneHotEncoder(handle_unknown='ignore')\n",
        "    X_encoded = encoder.fit_transform(dataset[['Taluka_Name', 'Soil_color']])\n",
        "    input_data_encoded = encoder.transform(input_data[['Taluka_Name', 'Soil_color']])\n",
        "\n",
        "    # Split the dataset into training and testing sets\n",
        "    X_train, X_test, y_train, y_test = train_test_split(X_encoded, dataset['Crop'], test_size=0.2, random_state=42)\n",
        "\n",
        "    # Train the Random Forest model\n",
        "    model_crop = RandomForestClassifier(n_estimators=100, random_state=42)\n",
        "    model_crop.fit(X_train, y_train)\n",
        "\n",
        "    #Make predictions\n",
        "    predicted_crop = model_crop.predict(input_data_encoded)\n",
        "\n",
        "    # Find the fertilizer associated with the recommended crop\n",
        "    recommended_fertilizer = dataset[dataset['Crop'] == predicted_crop[0]]['Fertilizer'].values[0]\n",
        "    with recommend_widget:\n",
        "        recommend_widget.clear_output()\n",
        "        print(\"Recommended Crop:\", predicted_crop[0])\n",
        "        print(\"Recommended Fertilizer:\", recommended_fertilizer)\n",
        "\n",
        "\n",
        "# Define the observer function to update soil color options\n",
        "taluka_widget.observe(update_soil_color_options, names='value')\n",
        "taluka_widget.observe(update_nitrogen_options, names='value')\n",
        "soil_color_widget.observe(update_nitrogen_options, names='value')\n",
        "\n",
        "taluka_widget.observe(update_phosphorus_options, names='value')\n",
        "soil_color_widget.observe(update_phosphorus_options, names='value')\n",
        "\n",
        "taluka_widget.observe(update_potassium_options, names='value')\n",
        "soil_color_widget.observe(update_potassium_options, names='value')\n",
        "\n",
        "taluka_widget.observe(update_ph_options, names='value')\n",
        "soil_color_widget.observe(update_ph_options, names='value')\n",
        "\n",
        "taluka_widget.observe(update_rainfall_options, names='value')\n",
        "soil_color_widget.observe(update_rainfall_options, names='value')\n",
        "\n",
        "taluka_widget.observe(update_temperature_options, names='value')\n",
        "soil_color_widget.observe(update_temperature_options, names='value')\n",
        "\n",
        "#create button widget\n",
        "button = widgets.Button(description=\"Recommend Crop and Fertilizer\")\n",
        "button.on_click(train_model)\n",
        "\n",
        "display(widgets.VBox([\n",
        "    taluka_widget,\n",
        "    soil_color_widget,\n",
        "    nitrogen_widget,\n",
        "    phosphorus_widget,\n",
        "    potassium_widget,\n",
        "    ph_widget,\n",
        "    rainfall_widget,\n",
        "    temperature_widget]))\n",
        "\n",
        "display(button)"
      ],
      "metadata": {
        "id": "8Y5UgqfxKDCS"
      },
      "execution_count": null,
      "outputs": []
    },
    {
      "cell_type": "code",
      "source": [
        "display(recommend_widget)"
      ],
      "metadata": {
        "id": "CReKNBc_avPW"
      },
      "execution_count": null,
      "outputs": []
    }
  ]
}